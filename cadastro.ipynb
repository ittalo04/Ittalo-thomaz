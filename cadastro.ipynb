{
  "nbformat": 4,
  "nbformat_minor": 0,
  "metadata": {
    "colab": {
      "provenance": [],
      "authorship_tag": "ABX9TyPwvi5Y1LRCa631piBeIkcP",
      "include_colab_link": true
    },
    "kernelspec": {
      "name": "python3",
      "display_name": "Python 3"
    },
    "language_info": {
      "name": "python"
    }
  },
  "cells": [
    {
      "cell_type": "markdown",
      "metadata": {
        "id": "view-in-github",
        "colab_type": "text"
      },
      "source": [
        "<a href=\"https://colab.research.google.com/github/ittalo04/Ittalo-thomaz/blob/main/cadastro.ipynb\" target=\"_parent\"><img src=\"https://colab.research.google.com/assets/colab-badge.svg\" alt=\"Open In Colab\"/></a>"
      ]
    },
    {
      "cell_type": "code",
      "execution_count": 6,
      "metadata": {
        "colab": {
          "base_uri": "https://localhost:8080/",
          "height": 246
        },
        "id": "3TZgYBNwJedm",
        "outputId": "7caa13f2-acfb-4fa8-8174-cb5e113d5e6d"
      },
      "outputs": [
        {
          "output_type": "error",
          "ename": "NameError",
          "evalue": "ignored",
          "traceback": [
            "\u001b[0;31m---------------------------------------------------------------------------\u001b[0m",
            "\u001b[0;31mNameError\u001b[0m                                 Traceback (most recent call last)",
            "\u001b[0;32m<ipython-input-6-b2686ca04120>\u001b[0m in \u001b[0;36m<cell line: 20>\u001b[0;34m()\u001b[0m\n\u001b[1;32m     18\u001b[0m \u001b[0;34m\u001b[0m\u001b[0m\n\u001b[1;32m     19\u001b[0m \u001b[0;34m\u001b[0m\u001b[0m\n\u001b[0;32m---> 20\u001b[0;31m \u001b[0mpessoa1\u001b[0m \u001b[0;34m=\u001b[0m \u001b[0mPessoa\u001b[0m\u001b[0;34m(\u001b[0m\u001b[0;34m\"Ittalo\"\u001b[0m\u001b[0;34m,\u001b[0m \u001b[0;36m18\u001b[0m\u001b[0;34m,\u001b[0m \u001b[0;34m\"Rua Principal, 000\"\u001b[0m\u001b[0;34m,\u001b[0m \u001b[0;34m\"Masculino\"\u001b[0m\u001b[0;34m)\u001b[0m\u001b[0;34m\u001b[0m\u001b[0;34m\u001b[0m\u001b[0m\n\u001b[0m\u001b[1;32m     21\u001b[0m \u001b[0mpessoa2\u001b[0m \u001b[0;34m=\u001b[0m \u001b[0mPessoa\u001b[0m\u001b[0;34m(\u001b[0m\u001b[0;34m\"Tayane\"\u001b[0m\u001b[0;34m,\u001b[0m \u001b[0;36m20\u001b[0m\u001b[0;34m,\u001b[0m \u001b[0;34m\"Avenida Secundária, 000\"\u001b[0m\u001b[0;34m,\u001b[0m \u001b[0;34m\"Feminino\"\u001b[0m\u001b[0;34m)\u001b[0m\u001b[0;34m\u001b[0m\u001b[0;34m\u001b[0m\u001b[0m\n\u001b[1;32m     22\u001b[0m \u001b[0;34m\u001b[0m\u001b[0m\n",
            "\u001b[0;31mNameError\u001b[0m: name 'Pessoa' is not defined"
          ]
        }
      ],
      "source": [
        "# ETE Cicero dias\n",
        "# Aluno . Ittalo thomaz\n",
        "# Python noção 00\n",
        "\n",
        "class Cadastro:\n",
        "    def __init__(self):\n",
        "        self.pessoas = []\n",
        "\n",
        "    def adicionar_pessoa(self, pessoa):\n",
        "        self.pessoas.append(pessoa)\n",
        "\n",
        "    def listar_pessoas(self):\n",
        "        for pessoa in self.pessoas:\n",
        "            print(pessoa.apresentar())\n",
        "\n",
        "\n",
        "cadastro = Cadastro()\n",
        "\n",
        "\n",
        "pessoa1 = Pessoa(\"Ittalo\", 18, \"Rua Principal, 000\", \"Masculino\")\n",
        "pessoa2 = Pessoa(\"Tayane\", 20, \"Avenida Secundária, 000\", \"Feminino\")\n",
        "\n",
        "cadastro.adicionar_pessoa(pessoa1)\n",
        "cadastro.adicionar_pessoa(pessoa2)\n",
        "\n",
        "\n",
        "cadastro.listar_pessoas()\n",
        "\n"
      ]
    }
  ]
}