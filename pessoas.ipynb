{
  "nbformat": 4,
  "nbformat_minor": 0,
  "metadata": {
    "colab": {
      "provenance": [],
      "authorship_tag": "ABX9TyMIsLx/xU0diL9bZy407LZe",
      "include_colab_link": true
    },
    "kernelspec": {
      "name": "python3",
      "display_name": "Python 3"
    },
    "language_info": {
      "name": "python"
    }
  },
  "cells": [
    {
      "cell_type": "markdown",
      "metadata": {
        "id": "view-in-github",
        "colab_type": "text"
      },
      "source": [
        "<a href=\"https://colab.research.google.com/github/ittalo04/Ittalo-thomaz/blob/main/pessoas.ipynb\" target=\"_parent\"><img src=\"https://colab.research.google.com/assets/colab-badge.svg\" alt=\"Open In Colab\"/></a>"
      ]
    },
    {
      "cell_type": "code",
      "execution_count": 7,
      "metadata": {
        "colab": {
          "base_uri": "https://localhost:8080/"
        },
        "id": "3TZgYBNwJedm",
        "outputId": "f48942d0-968c-4add-e2c9-b282f286c84d"
      },
      "outputs": [
        {
          "output_type": "stream",
          "name": "stdout",
          "text": [
            "Olá, meu nome é Ittalo, tenho 18, anos, moro em Recife, e eu do gênero Masculino.\n",
            "Olá, meu nome é Tania, tenho 18, anos, moro em Boa Viagem, e eu do gênero Feminino.\n"
          ]
        }
      ],
      "source": [
        "# ETE Cicero dias\n",
        "# Aluno . Ittalo thomaz\n",
        "# Python noção 00\n",
        "\n",
        "class Pessoa :\n",
        "  def __init__(self, nome, idade, endereco, genero) :\n",
        "    self.nome = nome\n",
        "    self.idade = idade\n",
        "    self.endereco = endereco\n",
        "    self.genero = genero\n",
        "\n",
        "  def apresentar(self) :\n",
        "    return f\"Olá, meu nome é {self.nome}, tenho {self.idade}, anos, moro em {self.endereco}, e eu do gênero {self.genero}.\"\n",
        "\n",
        "\n",
        "pessoa1 = Pessoa('Ittalo', 18, 'Recife', 'Masculino')\n",
        "pessoa2 = Pessoa('Tania', 18, 'Boa Viagem', 'Feminino')\n",
        "\n",
        "\n",
        "print(pessoa1.apresentar())\n",
        "\n",
        "\n",
        "print(pessoa2.apresentar())\n"
      ]
    }
  ]
}