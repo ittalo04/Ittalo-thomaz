{
  "nbformat": 4,
  "nbformat_minor": 0,
  "metadata": {
    "colab": {
      "provenance": [],
      "authorship_tag": "ABX9TyMwIhhJKvvJZcAuyAkUxukT",
      "include_colab_link": true
    },
    "kernelspec": {
      "name": "python3",
      "display_name": "Python 3"
    },
    "language_info": {
      "name": "python"
    }
  },
  "cells": [
    {
      "cell_type": "markdown",
      "metadata": {
        "id": "view-in-github",
        "colab_type": "text"
      },
      "source": [
        "<a href=\"https://colab.research.google.com/github/ittalo04/Ittalo-thomaz/blob/main/Animal.ipynb\" target=\"_parent\"><img src=\"https://colab.research.google.com/assets/colab-badge.svg\" alt=\"Open In Colab\"/></a>"
      ]
    },
    {
      "cell_type": "code",
      "execution_count": 3,
      "metadata": {
        "id": "KzBE0yXX5S9R",
        "colab": {
          "base_uri": "https://localhost:8080/"
        },
        "outputId": "14be881a-118c-4cc1-b135-cac0c4dbe721"
      },
      "outputs": [
        {
          "output_type": "stream",
          "name": "stdout",
          "text": [
            "Duke, 1, Macho, cao\n",
            "Luna, 2, Femea, gato\n"
          ]
        }
      ],
      "source": [
        "# ETE Cicero dias\n",
        "# Aluna . Ittalo\n",
        "# Python noção 00\n",
        "\n",
        "class animal :\n",
        "    def init(self, nome, idade, sexo, raca):\n",
        "        self.nome = nome\n",
        "        self.idade = idade\n",
        "        self.sexo = sexo\n",
        "        self.raca = raca\n",
        "\n",
        "    def apresentar(self):\n",
        "        return f\"O animal {self.nome}, tem {self.idade} ano, do sexo {self.sexo}, raca {self.raca}.\"\n",
        "\n",
        "animal1 = (\"Duke, 1, Macho, cao\")\n",
        "animal2 = (\"Luna, 2, Femea, gato\")\n",
        "\n",
        "print(animal1)\n",
        "print(animal2)"
      ]
    }
  ]
}