{
  "nbformat": 4,
  "nbformat_minor": 0,
  "metadata": {
    "colab": {
      "provenance": [],
      "authorship_tag": "ABX9TyPRAivOkEQjmVkJcfnmsYJL",
      "include_colab_link": true
    },
    "kernelspec": {
      "name": "python3",
      "display_name": "Python 3"
    },
    "language_info": {
      "name": "python"
    }
  },
  "cells": [
    {
      "cell_type": "markdown",
      "metadata": {
        "id": "view-in-github",
        "colab_type": "text"
      },
      "source": [
        "<a href=\"https://colab.research.google.com/github/ittalo04/Ittalo-thomaz/blob/main/Pet.ipynb\" target=\"_parent\"><img src=\"https://colab.research.google.com/assets/colab-badge.svg\" alt=\"Open In Colab\"/></a>"
      ]
    },
    {
      "cell_type": "code",
      "execution_count": 1,
      "metadata": {
        "colab": {
          "base_uri": "https://localhost:8080/"
        },
        "id": "3TZgYBNwJedm",
        "outputId": "81cb75c4-650b-4170-9618-0413f962a2fc"
      },
      "outputs": [
        {
          "output_type": "stream",
          "name": "stdout",
          "text": [
            "Pet adotado Duke, tem 1 ano, do sexo Macho.\n",
            "Pet adotado Luna, tem 2 ano, do sexo Femea.\n"
          ]
        }
      ],
      "source": [
        "# ETE Cicero dias\n",
        "# Aluno . Ittalo thomaz\n",
        "# Python noção 00\n",
        "\n",
        "class Pet:\n",
        "    def __init__(self, nome, idade, sexo):\n",
        "        self.nome = nome\n",
        "        self.idade = idade\n",
        "        self.sexo = sexo\n",
        "\n",
        "    def apresentar(self):\n",
        "        return f\"Pet adotado {self.nome}, tem {self.idade} ano, do sexo {self.sexo}.\"\n",
        "\n",
        "\n",
        "pet1 = Pet('Duke', 1, 'Macho')\n",
        "pet2= Pet('Luna', 2, 'Femea')\n",
        "\n",
        "\n",
        "print(pet1.apresentar())\n",
        "\n",
        "print(pet2.apresentar())\n"
      ]
    }
  ]
}